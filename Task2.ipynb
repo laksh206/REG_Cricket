{
  "nbformat": 4,
  "nbformat_minor": 0,
  "metadata": {
    "colab": {
      "provenance": [],
      "include_colab_link": true
    },
    "kernelspec": {
      "name": "python3",
      "display_name": "Python 3"
    },
    "language_info": {
      "name": "python"
    }
  },
  "cells": [
    {
      "cell_type": "markdown",
      "metadata": {
        "id": "view-in-github",
        "colab_type": "text"
      },
      "source": [
        "<a href=\"https://colab.research.google.com/github/laksh206/REG_Cricket/blob/main/Task2.ipynb\" target=\"_parent\"><img src=\"https://colab.research.google.com/assets/colab-badge.svg\" alt=\"Open In Colab\"/></a>"
      ]
    },
    {
      "cell_type": "markdown",
      "source": [
        "**Hand Gesture Detection assignment**\n",
        "\n",
        "\n",
        "\n",
        "   Instruction/Hints are mentioned, to run the cell you have to do shift+enter\n",
        "\n"
      ],
      "metadata": {
        "id": "eGP-BSmIV919"
      }
    },
    {
      "cell_type": "code",
      "source": [
        "!pip install opendatasets\n",
        "!pip install keras\n",
        "!pip install tensorflow\n",
        "!pip install rasa==1.1.4"
      ],
      "metadata": {
        "id": "q6kVvrvqBNmi",
        "outputId": "58ee3eba-cab2-4905-94cb-a8d490d714fa",
        "colab": {
          "base_uri": "https://localhost:8080/"
        }
      },
      "execution_count": 1,
      "outputs": [
        {
          "output_type": "stream",
          "name": "stdout",
          "text": [
            "Collecting opendatasets\n",
            "  Downloading opendatasets-0.1.22-py3-none-any.whl (15 kB)\n",
            "Requirement already satisfied: tqdm in /usr/local/lib/python3.10/dist-packages (from opendatasets) (4.66.1)\n",
            "Requirement already satisfied: kaggle in /usr/local/lib/python3.10/dist-packages (from opendatasets) (1.5.16)\n",
            "Requirement already satisfied: click in /usr/local/lib/python3.10/dist-packages (from opendatasets) (8.1.7)\n",
            "Requirement already satisfied: six>=1.10 in /usr/local/lib/python3.10/dist-packages (from kaggle->opendatasets) (1.16.0)\n",
            "Requirement already satisfied: certifi in /usr/local/lib/python3.10/dist-packages (from kaggle->opendatasets) (2023.11.17)\n",
            "Requirement already satisfied: python-dateutil in /usr/local/lib/python3.10/dist-packages (from kaggle->opendatasets) (2.8.2)\n",
            "Requirement already satisfied: requests in /usr/local/lib/python3.10/dist-packages (from kaggle->opendatasets) (2.31.0)\n",
            "Requirement already satisfied: python-slugify in /usr/local/lib/python3.10/dist-packages (from kaggle->opendatasets) (8.0.1)\n",
            "Requirement already satisfied: urllib3 in /usr/local/lib/python3.10/dist-packages (from kaggle->opendatasets) (2.0.7)\n",
            "Requirement already satisfied: bleach in /usr/local/lib/python3.10/dist-packages (from kaggle->opendatasets) (6.1.0)\n",
            "Requirement already satisfied: webencodings in /usr/local/lib/python3.10/dist-packages (from bleach->kaggle->opendatasets) (0.5.1)\n",
            "Requirement already satisfied: text-unidecode>=1.3 in /usr/local/lib/python3.10/dist-packages (from python-slugify->kaggle->opendatasets) (1.3)\n",
            "Requirement already satisfied: charset-normalizer<4,>=2 in /usr/local/lib/python3.10/dist-packages (from requests->kaggle->opendatasets) (3.3.2)\n",
            "Requirement already satisfied: idna<4,>=2.5 in /usr/local/lib/python3.10/dist-packages (from requests->kaggle->opendatasets) (3.6)\n",
            "Installing collected packages: opendatasets\n",
            "Successfully installed opendatasets-0.1.22\n",
            "Requirement already satisfied: keras in /usr/local/lib/python3.10/dist-packages (2.15.0)\n",
            "Requirement already satisfied: tensorflow in /usr/local/lib/python3.10/dist-packages (2.15.0)\n",
            "Requirement already satisfied: absl-py>=1.0.0 in /usr/local/lib/python3.10/dist-packages (from tensorflow) (1.4.0)\n",
            "Requirement already satisfied: astunparse>=1.6.0 in /usr/local/lib/python3.10/dist-packages (from tensorflow) (1.6.3)\n",
            "Requirement already satisfied: flatbuffers>=23.5.26 in /usr/local/lib/python3.10/dist-packages (from tensorflow) (23.5.26)\n",
            "Requirement already satisfied: gast!=0.5.0,!=0.5.1,!=0.5.2,>=0.2.1 in /usr/local/lib/python3.10/dist-packages (from tensorflow) (0.5.4)\n",
            "Requirement already satisfied: google-pasta>=0.1.1 in /usr/local/lib/python3.10/dist-packages (from tensorflow) (0.2.0)\n",
            "Requirement already satisfied: h5py>=2.9.0 in /usr/local/lib/python3.10/dist-packages (from tensorflow) (3.9.0)\n",
            "Requirement already satisfied: libclang>=13.0.0 in /usr/local/lib/python3.10/dist-packages (from tensorflow) (16.0.6)\n",
            "Requirement already satisfied: ml-dtypes~=0.2.0 in /usr/local/lib/python3.10/dist-packages (from tensorflow) (0.2.0)\n",
            "Requirement already satisfied: numpy<2.0.0,>=1.23.5 in /usr/local/lib/python3.10/dist-packages (from tensorflow) (1.23.5)\n",
            "Requirement already satisfied: opt-einsum>=2.3.2 in /usr/local/lib/python3.10/dist-packages (from tensorflow) (3.3.0)\n",
            "Requirement already satisfied: packaging in /usr/local/lib/python3.10/dist-packages (from tensorflow) (23.2)\n",
            "Requirement already satisfied: protobuf!=4.21.0,!=4.21.1,!=4.21.2,!=4.21.3,!=4.21.4,!=4.21.5,<5.0.0dev,>=3.20.3 in /usr/local/lib/python3.10/dist-packages (from tensorflow) (3.20.3)\n",
            "Requirement already satisfied: setuptools in /usr/local/lib/python3.10/dist-packages (from tensorflow) (67.7.2)\n",
            "Requirement already satisfied: six>=1.12.0 in /usr/local/lib/python3.10/dist-packages (from tensorflow) (1.16.0)\n",
            "Requirement already satisfied: termcolor>=1.1.0 in /usr/local/lib/python3.10/dist-packages (from tensorflow) (2.4.0)\n",
            "Requirement already satisfied: typing-extensions>=3.6.6 in /usr/local/lib/python3.10/dist-packages (from tensorflow) (4.5.0)\n",
            "Requirement already satisfied: wrapt<1.15,>=1.11.0 in /usr/local/lib/python3.10/dist-packages (from tensorflow) (1.14.1)\n",
            "Requirement already satisfied: tensorflow-io-gcs-filesystem>=0.23.1 in /usr/local/lib/python3.10/dist-packages (from tensorflow) (0.34.0)\n",
            "Requirement already satisfied: grpcio<2.0,>=1.24.3 in /usr/local/lib/python3.10/dist-packages (from tensorflow) (1.60.0)\n",
            "Requirement already satisfied: tensorboard<2.16,>=2.15 in /usr/local/lib/python3.10/dist-packages (from tensorflow) (2.15.1)\n",
            "Requirement already satisfied: tensorflow-estimator<2.16,>=2.15.0 in /usr/local/lib/python3.10/dist-packages (from tensorflow) (2.15.0)\n",
            "Requirement already satisfied: keras<2.16,>=2.15.0 in /usr/local/lib/python3.10/dist-packages (from tensorflow) (2.15.0)\n",
            "Requirement already satisfied: wheel<1.0,>=0.23.0 in /usr/local/lib/python3.10/dist-packages (from astunparse>=1.6.0->tensorflow) (0.42.0)\n",
            "Requirement already satisfied: google-auth<3,>=1.6.3 in /usr/local/lib/python3.10/dist-packages (from tensorboard<2.16,>=2.15->tensorflow) (2.17.3)\n",
            "Requirement already satisfied: google-auth-oauthlib<2,>=0.5 in /usr/local/lib/python3.10/dist-packages (from tensorboard<2.16,>=2.15->tensorflow) (1.2.0)\n",
            "Requirement already satisfied: markdown>=2.6.8 in /usr/local/lib/python3.10/dist-packages (from tensorboard<2.16,>=2.15->tensorflow) (3.5.1)\n",
            "Requirement already satisfied: requests<3,>=2.21.0 in /usr/local/lib/python3.10/dist-packages (from tensorboard<2.16,>=2.15->tensorflow) (2.31.0)\n",
            "Requirement already satisfied: tensorboard-data-server<0.8.0,>=0.7.0 in /usr/local/lib/python3.10/dist-packages (from tensorboard<2.16,>=2.15->tensorflow) (0.7.2)\n",
            "Requirement already satisfied: werkzeug>=1.0.1 in /usr/local/lib/python3.10/dist-packages (from tensorboard<2.16,>=2.15->tensorflow) (3.0.1)\n",
            "Requirement already satisfied: cachetools<6.0,>=2.0.0 in /usr/local/lib/python3.10/dist-packages (from google-auth<3,>=1.6.3->tensorboard<2.16,>=2.15->tensorflow) (5.3.2)\n",
            "Requirement already satisfied: pyasn1-modules>=0.2.1 in /usr/local/lib/python3.10/dist-packages (from google-auth<3,>=1.6.3->tensorboard<2.16,>=2.15->tensorflow) (0.3.0)\n",
            "Requirement already satisfied: rsa<5,>=3.1.4 in /usr/local/lib/python3.10/dist-packages (from google-auth<3,>=1.6.3->tensorboard<2.16,>=2.15->tensorflow) (4.9)\n",
            "Requirement already satisfied: requests-oauthlib>=0.7.0 in /usr/local/lib/python3.10/dist-packages (from google-auth-oauthlib<2,>=0.5->tensorboard<2.16,>=2.15->tensorflow) (1.3.1)\n",
            "Requirement already satisfied: charset-normalizer<4,>=2 in /usr/local/lib/python3.10/dist-packages (from requests<3,>=2.21.0->tensorboard<2.16,>=2.15->tensorflow) (3.3.2)\n",
            "Requirement already satisfied: idna<4,>=2.5 in /usr/local/lib/python3.10/dist-packages (from requests<3,>=2.21.0->tensorboard<2.16,>=2.15->tensorflow) (3.6)\n",
            "Requirement already satisfied: urllib3<3,>=1.21.1 in /usr/local/lib/python3.10/dist-packages (from requests<3,>=2.21.0->tensorboard<2.16,>=2.15->tensorflow) (2.0.7)\n",
            "Requirement already satisfied: certifi>=2017.4.17 in /usr/local/lib/python3.10/dist-packages (from requests<3,>=2.21.0->tensorboard<2.16,>=2.15->tensorflow) (2023.11.17)\n",
            "Requirement already satisfied: MarkupSafe>=2.1.1 in /usr/local/lib/python3.10/dist-packages (from werkzeug>=1.0.1->tensorboard<2.16,>=2.15->tensorflow) (2.1.3)\n",
            "Requirement already satisfied: pyasn1<0.6.0,>=0.4.6 in /usr/local/lib/python3.10/dist-packages (from pyasn1-modules>=0.2.1->google-auth<3,>=1.6.3->tensorboard<2.16,>=2.15->tensorflow) (0.5.1)\n",
            "Requirement already satisfied: oauthlib>=3.0.0 in /usr/local/lib/python3.10/dist-packages (from requests-oauthlib>=0.7.0->google-auth-oauthlib<2,>=0.5->tensorboard<2.16,>=2.15->tensorflow) (3.2.2)\n",
            "Collecting rasa==1.1.4\n",
            "  Downloading rasa-1.1.4-py3-none-any.whl (447 kB)\n",
            "\u001b[2K     \u001b[90m━━━━━━━━━━━━━━━━━━━━━━━━━━━━━━━━━━━━━━━━\u001b[0m \u001b[32m447.2/447.2 kB\u001b[0m \u001b[31m6.8 MB/s\u001b[0m eta \u001b[36m0:00:00\u001b[0m\n",
            "\u001b[?25hRequirement already satisfied: requests~=2.22 in /usr/local/lib/python3.10/dist-packages (from rasa==1.1.4) (2.31.0)\n",
            "Collecting boto3~=1.9 (from rasa==1.1.4)\n",
            "  Downloading boto3-1.34.5-py3-none-any.whl (139 kB)\n",
            "\u001b[2K     \u001b[90m━━━━━━━━━━━━━━━━━━━━━━━━━━━━━━━━━━━━━━━━\u001b[0m \u001b[32m139.3/139.3 kB\u001b[0m \u001b[31m13.1 MB/s\u001b[0m eta \u001b[36m0:00:00\u001b[0m\n",
            "\u001b[?25hRequirement already satisfied: matplotlib~=3.0 in /usr/local/lib/python3.10/dist-packages (from rasa==1.1.4) (3.7.1)\n",
            "Collecting simplejson~=3.16 (from rasa==1.1.4)\n",
            "  Downloading simplejson-3.19.2-cp310-cp310-manylinux_2_5_x86_64.manylinux1_x86_64.manylinux_2_17_x86_64.manylinux2014_x86_64.whl (137 kB)\n",
            "\u001b[2K     \u001b[90m━━━━━━━━━━━━━━━━━━━━━━━━━━━━━━━━━━━━━━━━\u001b[0m \u001b[32m137.9/137.9 kB\u001b[0m \u001b[31m14.2 MB/s\u001b[0m eta \u001b[36m0:00:00\u001b[0m\n",
            "\u001b[?25hRequirement already satisfied: attrs>=18 in /usr/local/lib/python3.10/dist-packages (from rasa==1.1.4) (23.1.0)\n",
            "Collecting jsonpickle~=1.1 (from rasa==1.1.4)\n",
            "  Downloading jsonpickle-1.5.2-py2.py3-none-any.whl (37 kB)\n",
            "Collecting redis~=3.2 (from rasa==1.1.4)\n",
            "  Downloading redis-3.5.3-py2.py3-none-any.whl (72 kB)\n",
            "\u001b[2K     \u001b[90m━━━━━━━━━━━━━━━━━━━━━━━━━━━━━━━━━━━━━━━━\u001b[0m \u001b[32m72.1/72.1 kB\u001b[0m \u001b[31m6.3 MB/s\u001b[0m eta \u001b[36m0:00:00\u001b[0m\n",
            "\u001b[?25hCollecting fakeredis~=1.0 (from rasa==1.1.4)\n",
            "  Downloading fakeredis-1.10.2-py3-none-any.whl (43 kB)\n",
            "\u001b[2K     \u001b[90m━━━━━━━━━━━━━━━━━━━━━━━━━━━━━━━━━━━━━━━━\u001b[0m \u001b[32m43.0/43.0 kB\u001b[0m \u001b[31m4.9 MB/s\u001b[0m eta \u001b[36m0:00:00\u001b[0m\n",
            "\u001b[?25hCollecting pymongo~=3.8 (from rasa==1.1.4)\n",
            "  Downloading pymongo-3.13.0-cp310-cp310-manylinux_2_17_x86_64.manylinux2014_x86_64.whl (516 kB)\n",
            "\u001b[2K     \u001b[90m━━━━━━━━━━━━━━━━━━━━━━━━━━━━━━━━━━━━━━━━\u001b[0m \u001b[32m516.2/516.2 kB\u001b[0m \u001b[31m28.9 MB/s\u001b[0m eta \u001b[36m0:00:00\u001b[0m\n",
            "\u001b[?25hRequirement already satisfied: numpy~=1.16 in /usr/local/lib/python3.10/dist-packages (from rasa==1.1.4) (1.23.5)\n",
            "Requirement already satisfied: scipy~=1.2 in /usr/local/lib/python3.10/dist-packages (from rasa==1.1.4) (1.11.4)\n",
            "INFO: pip is looking at multiple versions of rasa to determine which version is compatible with other requirements. This could take a while.\n",
            "\u001b[31mERROR: Ignored the following versions that require a different python version: 1.10.10 Requires-Python >=3.6,<3.8; 1.10.11 Requires-Python >=3.6,<3.8; 1.10.12 Requires-Python >=3.6,<3.8; 1.10.13 Requires-Python >=3.6,<3.8; 1.10.14 Requires-Python >=3.6,<3.8; 1.10.15 Requires-Python >=3.6,<3.8; 1.10.16 Requires-Python >=3.6,<3.8; 1.10.17 Requires-Python >=3.6,<3.8; 1.10.18 Requires-Python >=3.6,<3.8; 1.10.19 Requires-Python >=3.6,<3.8; 1.10.20 Requires-Python >=3.6,<3.8; 1.10.21 Requires-Python >=3.6,<3.8; 1.10.22 Requires-Python >=3.6,<3.8; 1.10.23 Requires-Python >=3.6,<3.8; 1.10.24 Requires-Python >=3.6,<3.8; 1.10.25 Requires-Python >=3.6,<3.8; 1.10.26 Requires-Python >=3.6,<3.8; 1.10.3 Requires-Python >=3.6,<3.8; 1.10.4 Requires-Python >=3.6,<3.8; 1.10.5 Requires-Python >=3.6,<3.8; 1.10.6 Requires-Python >=3.6,<3.8; 1.10.7 Requires-Python >=3.6,<3.8; 1.10.8 Requires-Python >=3.6,<3.8; 1.10.9 Requires-Python >=3.6,<3.8; 2.0.0 Requires-Python >=3.6,<3.9; 2.0.0a1 Requires-Python >=3.6,<3.9; 2.0.0a2 Requires-Python >=3.6,<3.9; 2.0.0a3 Requires-Python >=3.6,<3.9; 2.0.0a4 Requires-Python >=3.6,<3.9; 2.0.0a5 Requires-Python >=3.6,<3.9; 2.0.0a6 Requires-Python >=3.6,<3.9; 2.0.0rc1 Requires-Python >=3.6,<3.9; 2.0.0rc2 Requires-Python >=3.6,<3.9; 2.0.0rc3 Requires-Python >=3.6,<3.9; 2.0.0rc4 Requires-Python >=3.6,<3.9; 2.0.1 Requires-Python >=3.6,<3.9; 2.0.2 Requires-Python >=3.6,<3.9; 2.0.3 Requires-Python >=3.6,<3.9; 2.0.4 Requires-Python >=3.6,<3.9; 2.0.5 Requires-Python >=3.6,<3.9; 2.0.6 Requires-Python >=3.6,<3.9; 2.0.7 Requires-Python >=3.6,<3.9; 2.0.8 Requires-Python >=3.6,<3.9; 2.1.0 Requires-Python >=3.6,<3.9; 2.1.1 Requires-Python >=3.6,<3.9; 2.1.2 Requires-Python >=3.6,<3.9; 2.1.3 Requires-Python >=3.6,<3.9; 2.2.0 Requires-Python >=3.6,<3.9; 2.2.0a1 Requires-Python >=3.6,<3.9; 2.2.1 Requires-Python >=3.6,<3.9; 2.2.10 Requires-Python >=3.6,<3.9; 2.2.2 Requires-Python >=3.6,<3.9; 2.2.3 Requires-Python >=3.6,<3.9; 2.2.4 Requires-Python >=3.6,<3.9; 2.2.5 Requires-Python >=3.6,<3.9; 2.2.6 Requires-Python >=3.6,<3.9; 2.2.7 Requires-Python >=3.6,<3.9; 2.2.8 Requires-Python >=3.6,<3.9; 2.2.9 Requires-Python >=3.6,<3.9; 2.3.0 Requires-Python >=3.6,<3.9; 2.3.1 Requires-Python >=3.6,<3.9; 2.3.2 Requires-Python >=3.6,<3.9; 2.3.3 Requires-Python >=3.6,<3.9; 2.3.4 Requires-Python >=3.6,<3.9; 2.3.5 Requires-Python >=3.6,<3.9; 2.4.0 Requires-Python >=3.6,<3.9; 2.4.1 Requires-Python >=3.6,<3.9; 2.4.2 Requires-Python >=3.6,<3.9; 2.4.3 Requires-Python >=3.6,<3.9; 2.5.0 Requires-Python >=3.6,<3.9; 2.5.1 Requires-Python >=3.6,<3.9; 2.5.2 Requires-Python >=3.6,<3.9; 2.6.0 Requires-Python >=3.6,<3.9; 2.6.1 Requires-Python >=3.6,<3.9; 2.6.2 Requires-Python >=3.6,<3.9; 2.6.3 Requires-Python >=3.6,<3.9; 2.7.0 Requires-Python >=3.6,<3.9; 2.7.1 Requires-Python >=3.6,<3.9; 2.7.2 Requires-Python >=3.6,<3.9; 2.8.0 Requires-Python >=3.6,<3.9; 2.8.1 Requires-Python >=3.6,<3.9; 2.8.10 Requires-Python >=3.6,<3.9; 2.8.11 Requires-Python >=3.6,<3.9; 2.8.12 Requires-Python >=3.6,<3.9; 2.8.13 Requires-Python >=3.6,<3.9; 2.8.14 Requires-Python >=3.6,<3.9; 2.8.15 Requires-Python >=3.6,<3.9; 2.8.16 Requires-Python >=3.6,<3.9; 2.8.17 Requires-Python >=3.6,<3.9; 2.8.18 Requires-Python >=3.6,<3.9; 2.8.19 Requires-Python >=3.6,<3.9; 2.8.2 Requires-Python >=3.6,<3.9; 2.8.20 Requires-Python >=3.6,<3.9; 2.8.21 Requires-Python >=3.6,<3.9; 2.8.22 Requires-Python >=3.6,<3.9; 2.8.23 Requires-Python >=3.6,<3.9; 2.8.24 Requires-Python >=3.6,<3.9; 2.8.25 Requires-Python >=3.6,<3.9; 2.8.26 Requires-Python >=3.6,<3.9; 2.8.27 Requires-Python >=3.7,<3.9; 2.8.28 Requires-Python >=3.7,<3.9; 2.8.29 Requires-Python >=3.7,<3.9; 2.8.3 Requires-Python >=3.6,<3.9; 2.8.30 Requires-Python >=3.7,<3.9; 2.8.31 Requires-Python >=3.7,<3.9; 2.8.32 Requires-Python >=3.7,<3.9; 2.8.33 Requires-Python >=3.7,<3.9; 2.8.34 Requires-Python >=3.7,<3.9; 2.8.4 Requires-Python >=3.6,<3.9; 2.8.5 Requires-Python >=3.6,<3.9; 2.8.6 Requires-Python >=3.6,<3.9; 2.8.7 Requires-Python >=3.6,<3.9; 2.8.8 Requires-Python >=3.6,<3.9; 2.8.9 Requires-Python >=3.6,<3.9; 3.0.0 Requires-Python >=3.7,<3.9; 3.0.0rc1 Requires-Python >=3.7,<3.9; 3.0.0rc2 Requires-Python >=3.7,<3.9; 3.0.0rc3 Requires-Python >=3.7,<3.9; 3.0.1 Requires-Python >=3.7,<3.9; 3.0.11 Requires-Python >=3.7,<3.9; 3.0.12 Requires-Python >=3.7,<3.9; 3.0.13 Requires-Python >=3.7,<3.9; 3.0.2 Requires-Python >=3.7,<3.9; 3.0.3 Requires-Python >=3.7,<3.9; 3.0.4 Requires-Python >=3.7,<3.9; 3.0.5 Requires-Python >=3.7,<3.9; 3.0.6 Requires-Python >=3.7,<3.9; 3.0.7 Requires-Python >=3.7,<3.9; 3.0.8 Requires-Python >=3.7,<3.9; 3.0.9 Requires-Python >=3.7,<3.9; 3.1.0 Requires-Python >=3.7,<3.10; 3.1.1 Requires-Python >=3.7,<3.10; 3.1.2 Requires-Python >=3.7,<3.10; 3.1.3 Requires-Python >=3.7,<3.10; 3.1.4 Requires-Python >=3.7,<3.10; 3.1.5 Requires-Python >=3.7,<3.10; 3.1.6 Requires-Python >=3.7,<3.10; 3.1.7 Requires-Python >=3.7,<3.10; 3.2.0 Requires-Python >=3.7,<3.10; 3.2.1 Requires-Python >=3.7,<3.10; 3.2.10 Requires-Python >=3.7,<3.10; 3.2.11 Requires-Python >=3.7,<3.10; 3.2.12 Requires-Python >=3.7,<3.10; 3.2.13 Requires-Python >=3.7,<3.10; 3.2.2 Requires-Python >=3.7,<3.10; 3.2.4 Requires-Python >=3.7,<3.10; 3.2.5 Requires-Python >=3.7,<3.10; 3.2.6 Requires-Python >=3.7,<3.10; 3.2.7 Requires-Python >=3.7,<3.10; 3.2.8 Requires-Python >=3.7,<3.10; 3.3.0 Requires-Python >=3.7,<3.10; 3.3.0a1 Requires-Python >=3.7,<3.10; 3.3.1 Requires-Python >=3.7,<3.10; 3.3.10 Requires-Python >=3.7,<3.10; 3.3.11 Requires-Python >=3.7,<3.10; 3.3.12 Requires-Python >=3.7,<3.10; 3.3.2 Requires-Python >=3.7,<3.10; 3.3.3 Requires-Python >=3.7,<3.10; 3.3.4 Requires-Python >=3.7,<3.10; 3.3.5 Requires-Python >=3.7,<3.10; 3.3.6 Requires-Python >=3.7,<3.10; 3.3.7 Requires-Python >=3.7,<3.10; 3.3.8 Requires-Python >=3.7,<3.10; 3.3.9 Requires-Python >=3.7,<3.10\u001b[0m\u001b[31m\n",
            "\u001b[0m\u001b[31mERROR: Could not find a version that satisfies the requirement tensorflow~=1.13.0 (from rasa) (from versions: 2.8.0rc0, 2.8.0rc1, 2.8.0, 2.8.1, 2.8.2, 2.8.3, 2.8.4, 2.9.0rc0, 2.9.0rc1, 2.9.0rc2, 2.9.0, 2.9.1, 2.9.2, 2.9.3, 2.10.0rc0, 2.10.0rc1, 2.10.0rc2, 2.10.0rc3, 2.10.0, 2.10.1, 2.11.0rc0, 2.11.0rc1, 2.11.0rc2, 2.11.0, 2.11.1, 2.12.0rc0, 2.12.0rc1, 2.12.0, 2.12.1, 2.13.0rc0, 2.13.0rc1, 2.13.0rc2, 2.13.0, 2.13.1, 2.14.0rc0, 2.14.0rc1, 2.14.0, 2.14.1, 2.15.0rc0, 2.15.0rc1, 2.15.0, 2.15.0.post1)\u001b[0m\u001b[31m\n",
            "\u001b[0m\u001b[31mERROR: No matching distribution found for tensorflow~=1.13.0\u001b[0m\u001b[31m\n",
            "\u001b[0m"
          ]
        }
      ]
    },
    {
      "cell_type": "code",
      "source": [
        "# Import all the necessary dependcies\n",
        "\n",
        "import math\n",
        "import numpy as np\n",
        "import matplotlib.pyplot as plt\n",
        "from matplotlib.pyplot import imread\n",
        "import scipy\n",
        "from PIL import Image\n",
        "import pandas as pd\n",
        "import tensorflow as tf\n",
        "import tensorflow.keras.layers as tfl\n",
        "from tensorflow.python.framework import ops"
      ],
      "metadata": {
        "id": "dUOO_1rLBUyz"
      },
      "execution_count": 2,
      "outputs": []
    },
    {
      "cell_type": "markdown",
      "source": [
        "You will have to make an account on kaggle and will have to use that 'username' and key."
      ],
      "metadata": {
        "id": "J5VzIMhTXZ3U"
      }
    },
    {
      "cell_type": "code",
      "source": [
        "# Download the dataset from kaggle\n",
        "\n",
        "\n",
        "import opendatasets as od\n",
        "import pandas as pd\n",
        "od.download(\"https://www.kaggle.com/datasets/koryakinp/fingers\")"
      ],
      "metadata": {
        "id": "mrNGblj5BcsB",
        "outputId": "ff872c6e-244e-4aba-87f7-c5ba2f5c3bfc",
        "colab": {
          "base_uri": "https://localhost:8080/"
        }
      },
      "execution_count": 4,
      "outputs": [
        {
          "output_type": "stream",
          "name": "stdout",
          "text": [
            "Please provide your Kaggle credentials to download this dataset. Learn more: http://bit.ly/kaggle-creds\n",
            "Your Kaggle username: laksh206\n",
            "Your Kaggle Key: ··········\n",
            "Downloading fingers.zip to ./fingers\n"
          ]
        },
        {
          "output_type": "stream",
          "name": "stderr",
          "text": [
            "100%|██████████| 363M/363M [00:06<00:00, 60.8MB/s]\n"
          ]
        },
        {
          "output_type": "stream",
          "name": "stdout",
          "text": [
            "\n"
          ]
        }
      ]
    },
    {
      "cell_type": "code",
      "source": [
        "import os\n",
        "import cv2\n",
        "import numpy as np\n",
        "\n",
        "# Path to the dataset directory\n",
        "dataset_dir = '/content/fingers/test'\n",
        "\n",
        "# Initialize lists to store images and labels\n",
        "images = []\n",
        "labels = []\n",
        "\n",
        "# Iterate through each image file\n",
        "for filename in os.listdir(dataset_dir):\n",
        "    # Load the image using OpenCV\n",
        "    img_path = os.path.join(dataset_dir, filename)\n",
        "    img = cv2.imread(img_path,cv2.IMREAD_GRAYSCALE);\n",
        "    # Resize the image to a desired size (e.g., 64x64)\n",
        "    img = cv2.resize(img, (64, 64))\n",
        "\n",
        "    # Append the image to the images list\n",
        "    images.append(img)\n",
        "\n",
        "    # Get the label from the filename (the first character)\n",
        "    label = filename[-6:-5:]\n",
        "\n",
        "    # Append the label to the labels list\n",
        "    labels.append(label)\n",
        "\n",
        "# Convert the lists to NumPy arrays\n",
        "images = np.array(images)\n",
        "labels = np.array(labels)\n",
        "labels = labels.astype(int)\n",
        "x_test=images\n",
        "y_test=labels\n"
      ],
      "metadata": {
        "id": "KSshdfM7BjEe"
      },
      "execution_count": 6,
      "outputs": []
    },
    {
      "cell_type": "code",
      "source": [
        "import os\n",
        "import cv2\n",
        "import numpy as np\n",
        "\n",
        "# Path to the dataset directory\n",
        "dataset_dir = '/content/fingers/train'\n",
        "\n",
        "# Initialize lists to store images and labels\n",
        "images2 = []\n",
        "labels2 = []\n",
        "\n",
        "# Iterate through each image file\n",
        "for filename in os.listdir(dataset_dir):\n",
        "    # Load the image using OpenCV\n",
        "    img_path = os.path.join(dataset_dir, filename)\n",
        "    #img=cv2.imread(img_path)\n",
        "    img = cv2.imread(img_path,cv2.IMREAD_GRAYSCALE)\n",
        "    # Resize the image to a desired size (e.g., 64x64)\n",
        "    img = cv2.resize(img, (64, 64))\n",
        "\n",
        "    # Append the image to the images list\n",
        "    images2.append(img)\n",
        "\n",
        "    # Get the label from the filename (the first character)\n",
        "    label = filename[-6:-5:]\n",
        "\n",
        "    # Append the label to the labels list\n",
        "    labels2.append(label)\n",
        "\n",
        "# Convert the lists to NumPy arrays\n",
        "images2 = np.array(images2)\n",
        "labels2 = np.array(labels2)\n",
        "labels2 = labels2.astype(int)\n",
        "x_train=images2\n",
        "y_train=labels2\n",
        "\n"
      ],
      "metadata": {
        "id": "3t9n0QYPgkgS"
      },
      "execution_count": 7,
      "outputs": []
    },
    {
      "cell_type": "code",
      "source": [
        "x_train = np.expand_dims(x_train, axis=-1)\n",
        "x_test = np.expand_dims(x_test, axis=-1)"
      ],
      "metadata": {
        "id": "eyO82oK4bzct"
      },
      "execution_count": 8,
      "outputs": []
    },
    {
      "cell_type": "code",
      "source": [
        "from tensorflow.keras.utils import to_categorical\n",
        "\n",
        "\n",
        "Y_train = to_categorical(y_train, num_classes=6)\n",
        "\n",
        "Y_test = to_categorical(y_test, num_classes=6)"
      ],
      "metadata": {
        "id": "LalU-m8ed9tI"
      },
      "execution_count": 9,
      "outputs": []
    },
    {
      "cell_type": "code",
      "source": [
        "print(\"Unique values in y_train:\", np.unique(y_train))\n",
        "print(\"Unique values in y_test:\", np.unique(y_test))\n"
      ],
      "metadata": {
        "colab": {
          "base_uri": "https://localhost:8080/"
        },
        "id": "tBgRV26ynXFc",
        "outputId": "686f689c-8bb0-4509-964d-d924812d241d"
      },
      "execution_count": 10,
      "outputs": [
        {
          "output_type": "stream",
          "name": "stdout",
          "text": [
            "Unique values in y_train: [0 1 2 3 4 5]\n",
            "Unique values in y_test: [0 1 2 3 4 5]\n"
          ]
        }
      ]
    },
    {
      "cell_type": "code",
      "source": [
        "print (\"Y_train shape: \" + str(Y_train.shape))\n",
        "print (\"Y_test shape: \" + str(Y_test.shape))"
      ],
      "metadata": {
        "id": "eGg9wTjWZJnO",
        "colab": {
          "base_uri": "https://localhost:8080/"
        },
        "outputId": "061888aa-1328-48e7-9fb2-1728df5b3a88"
      },
      "execution_count": 11,
      "outputs": [
        {
          "output_type": "stream",
          "name": "stdout",
          "text": [
            "Y_train shape: (18000, 6)\n",
            "Y_test shape: (3600, 6)\n"
          ]
        }
      ]
    },
    {
      "cell_type": "code",
      "source": [
        "# MAKE YOUR CNN MODEL HERE\n",
        "\n",
        "def convolutional_model(input_shape):\n",
        "\n",
        "    input_img = tf.keras.Input(shape=input_shape)\n",
        "    model = tf.keras.models.Sequential()\n",
        "\n",
        "    # CONV2D: 8 filters 4x4, stride of 1, padding 'SAME'\n",
        "    model.add(tfl.Conv2D(8, (4, 4), strides=(1, 1), padding='SAME', input_shape=input_shape))\n",
        "\n",
        "    # Apply RELU to previous layer\n",
        "    model.add(tfl.Activation('relu'))\n",
        "\n",
        "    # MAXPOOL: window 8x8, stride 8, padding 'SAME'\n",
        "    model.add(tfl.MaxPooling2D((8, 8), strides=(8, 8), padding='SAME'))\n",
        "\n",
        "    # CONV2D: 16 filters 2x2, stride 1, padding 'SAME'\n",
        "    model.add(tfl.Conv2D(16, (2, 2), strides=(1, 1), padding='SAME'))\n",
        "\n",
        "    # RELU\n",
        "    model.add(tfl.Activation('relu'))\n",
        "\n",
        "    # MAXPOOL: window 4x4, stride 4, padding 'SAME'\n",
        "    model.add(tfl.MaxPooling2D((4, 4), strides=(4, 4), padding='SAME'))\n",
        "\n",
        "    # FLATTEN\n",
        "    model.add(tfl.Flatten())\n",
        "\n",
        "    # Dense layer\n",
        "    # 6 neurons in the output layer. Hint: one of the arguments should be \"activation='softmax'\"\n",
        "    model.add(tfl.Dense(6, activation='softmax'))\n",
        "\n",
        "    return model\n",
        "\n",
        "# Define the input shape, for example (64, 64, 3) for a 64x64 RGB image input_shape = (64, 64, 3)\n",
        "\n",
        "# Create the model cnn_model = convolutional_model(input_shape)\n",
        "\n",
        "# Display the model summary cnn_model.summary()\n"
      ],
      "metadata": {
        "id": "JIMLdalLXtPl"
      },
      "execution_count": 12,
      "outputs": []
    },
    {
      "cell_type": "code",
      "source": [
        "# COMPILE YOUR MODEL HERE\n",
        "from tensorflow.keras.optimizers import Adam\n",
        "from tensorflow.keras.losses import categorical_crossentropy\n",
        "from tensorflow.keras.metrics import categorical_accuracy\n",
        "\n",
        "\n",
        "conv_model = convolutional_model((64, 64,1))\n",
        "conv_model.compile(optimizer=Adam(lr=0.001),\n",
        "                  loss=categorical_crossentropy,\n",
        "                  metrics=[categorical_accuracy])\n",
        "conv_model.summary()"
      ],
      "metadata": {
        "id": "8BdaQ2alTT9v",
        "colab": {
          "base_uri": "https://localhost:8080/"
        },
        "outputId": "cb3a9d4e-3479-4e53-81cc-d7a44189459f"
      },
      "execution_count": 13,
      "outputs": [
        {
          "output_type": "stream",
          "name": "stderr",
          "text": [
            "WARNING:absl:`lr` is deprecated in Keras optimizer, please use `learning_rate` or use the legacy optimizer, e.g.,tf.keras.optimizers.legacy.Adam.\n"
          ]
        },
        {
          "output_type": "stream",
          "name": "stdout",
          "text": [
            "Model: \"sequential\"\n",
            "_________________________________________________________________\n",
            " Layer (type)                Output Shape              Param #   \n",
            "=================================================================\n",
            " conv2d (Conv2D)             (None, 64, 64, 8)         136       \n",
            "                                                                 \n",
            " activation (Activation)     (None, 64, 64, 8)         0         \n",
            "                                                                 \n",
            " max_pooling2d (MaxPooling2  (None, 8, 8, 8)           0         \n",
            " D)                                                              \n",
            "                                                                 \n",
            " conv2d_1 (Conv2D)           (None, 8, 8, 16)          528       \n",
            "                                                                 \n",
            " activation_1 (Activation)   (None, 8, 8, 16)          0         \n",
            "                                                                 \n",
            " max_pooling2d_1 (MaxPoolin  (None, 2, 2, 16)          0         \n",
            " g2D)                                                            \n",
            "                                                                 \n",
            " flatten (Flatten)           (None, 64)                0         \n",
            "                                                                 \n",
            " dense (Dense)               (None, 6)                 390       \n",
            "                                                                 \n",
            "=================================================================\n",
            "Total params: 1054 (4.12 KB)\n",
            "Trainable params: 1054 (4.12 KB)\n",
            "Non-trainable params: 0 (0.00 Byte)\n",
            "_________________________________________________________________\n"
          ]
        }
      ]
    },
    {
      "cell_type": "code",
      "source": [
        "# SLICE THE DATASET FOR 1800 IMAGES FOR TRAINING AND 300 FOR TESTING, ALSO MENTION THE BATCH SIZE\n",
        "\n",
        "\n",
        "train_dataset = tf.data.Dataset.from_tensor_slices((x_train[:1800:], Y_train[:1800:]))\n",
        "train_dataset = train_dataset.batch(32)\n",
        "test_dataset = tf.data.Dataset.from_tensor_slices((x_test[:300:], Y_test[:300:]))\n",
        "test_dataset = test_dataset.batch(32)\n"
      ],
      "metadata": {
        "id": "eQBPWlDATXQI"
      },
      "execution_count": 14,
      "outputs": []
    },
    {
      "cell_type": "code",
      "source": [
        "# TWEAK THE NUMBER OF IMAGES TO GET BETTER RESULTS\n",
        "\n",
        "history = conv_model.fit(train_dataset, epochs=100, validation_data=test_dataset)"
      ],
      "metadata": {
        "id": "w0tKznpya0im",
        "colab": {
          "base_uri": "https://localhost:8080/"
        },
        "outputId": "4493266a-57da-4d5e-bf92-9929fb4e36c6"
      },
      "execution_count": 15,
      "outputs": [
        {
          "output_type": "stream",
          "name": "stdout",
          "text": [
            "Epoch 1/100\n",
            "57/57 [==============================] - 4s 47ms/step - loss: 7.5334 - categorical_accuracy: 0.2350 - val_loss: 2.7346 - val_categorical_accuracy: 0.3567\n",
            "Epoch 2/100\n",
            "57/57 [==============================] - 2s 40ms/step - loss: 2.3468 - categorical_accuracy: 0.4572 - val_loss: 1.3214 - val_categorical_accuracy: 0.5967\n",
            "Epoch 3/100\n",
            "57/57 [==============================] - 4s 63ms/step - loss: 1.3845 - categorical_accuracy: 0.6244 - val_loss: 0.8159 - val_categorical_accuracy: 0.7333\n",
            "Epoch 4/100\n",
            "57/57 [==============================] - 3s 44ms/step - loss: 0.9484 - categorical_accuracy: 0.7183 - val_loss: 0.5842 - val_categorical_accuracy: 0.8233\n",
            "Epoch 5/100\n",
            "57/57 [==============================] - 2s 41ms/step - loss: 0.7151 - categorical_accuracy: 0.7794 - val_loss: 0.4909 - val_categorical_accuracy: 0.8533\n",
            "Epoch 6/100\n",
            "57/57 [==============================] - 2s 41ms/step - loss: 0.5749 - categorical_accuracy: 0.8144 - val_loss: 0.4379 - val_categorical_accuracy: 0.8700\n",
            "Epoch 7/100\n",
            "57/57 [==============================] - 3s 47ms/step - loss: 0.4888 - categorical_accuracy: 0.8461 - val_loss: 0.3955 - val_categorical_accuracy: 0.8867\n",
            "Epoch 8/100\n",
            "57/57 [==============================] - 3s 44ms/step - loss: 0.4208 - categorical_accuracy: 0.8644 - val_loss: 0.3635 - val_categorical_accuracy: 0.9000\n",
            "Epoch 9/100\n",
            "57/57 [==============================] - 2s 42ms/step - loss: 0.3717 - categorical_accuracy: 0.8856 - val_loss: 0.3381 - val_categorical_accuracy: 0.9100\n",
            "Epoch 10/100\n",
            "57/57 [==============================] - 3s 45ms/step - loss: 0.3382 - categorical_accuracy: 0.8922 - val_loss: 0.3145 - val_categorical_accuracy: 0.9167\n",
            "Epoch 11/100\n",
            "57/57 [==============================] - 3s 53ms/step - loss: 0.3113 - categorical_accuracy: 0.9022 - val_loss: 0.2974 - val_categorical_accuracy: 0.9200\n",
            "Epoch 12/100\n",
            "57/57 [==============================] - 2s 40ms/step - loss: 0.2865 - categorical_accuracy: 0.9150 - val_loss: 0.2831 - val_categorical_accuracy: 0.9233\n",
            "Epoch 13/100\n",
            "57/57 [==============================] - 2s 41ms/step - loss: 0.2669 - categorical_accuracy: 0.9211 - val_loss: 0.2745 - val_categorical_accuracy: 0.9233\n",
            "Epoch 14/100\n",
            "57/57 [==============================] - 2s 43ms/step - loss: 0.2445 - categorical_accuracy: 0.9272 - val_loss: 0.2592 - val_categorical_accuracy: 0.9333\n",
            "Epoch 15/100\n",
            "57/57 [==============================] - 3s 52ms/step - loss: 0.2238 - categorical_accuracy: 0.9322 - val_loss: 0.2448 - val_categorical_accuracy: 0.9300\n",
            "Epoch 16/100\n",
            "57/57 [==============================] - 2s 41ms/step - loss: 0.2038 - categorical_accuracy: 0.9389 - val_loss: 0.2338 - val_categorical_accuracy: 0.9400\n",
            "Epoch 17/100\n",
            "57/57 [==============================] - 2s 44ms/step - loss: 0.1867 - categorical_accuracy: 0.9433 - val_loss: 0.2239 - val_categorical_accuracy: 0.9400\n",
            "Epoch 18/100\n",
            "57/57 [==============================] - 3s 44ms/step - loss: 0.1732 - categorical_accuracy: 0.9472 - val_loss: 0.2178 - val_categorical_accuracy: 0.9433\n",
            "Epoch 19/100\n",
            "57/57 [==============================] - 3s 46ms/step - loss: 0.1604 - categorical_accuracy: 0.9489 - val_loss: 0.2124 - val_categorical_accuracy: 0.9433\n",
            "Epoch 20/100\n",
            "57/57 [==============================] - 2s 44ms/step - loss: 0.1494 - categorical_accuracy: 0.9522 - val_loss: 0.2075 - val_categorical_accuracy: 0.9433\n",
            "Epoch 21/100\n",
            "57/57 [==============================] - 2s 43ms/step - loss: 0.1386 - categorical_accuracy: 0.9550 - val_loss: 0.2026 - val_categorical_accuracy: 0.9400\n",
            "Epoch 22/100\n",
            "57/57 [==============================] - 2s 44ms/step - loss: 0.1290 - categorical_accuracy: 0.9589 - val_loss: 0.2007 - val_categorical_accuracy: 0.9400\n",
            "Epoch 23/100\n",
            "57/57 [==============================] - 3s 50ms/step - loss: 0.1203 - categorical_accuracy: 0.9600 - val_loss: 0.1947 - val_categorical_accuracy: 0.9467\n",
            "Epoch 24/100\n",
            "57/57 [==============================] - 2s 41ms/step - loss: 0.1111 - categorical_accuracy: 0.9622 - val_loss: 0.1933 - val_categorical_accuracy: 0.9467\n",
            "Epoch 25/100\n",
            "57/57 [==============================] - 2s 41ms/step - loss: 0.1041 - categorical_accuracy: 0.9639 - val_loss: 0.1861 - val_categorical_accuracy: 0.9467\n",
            "Epoch 26/100\n",
            "57/57 [==============================] - 2s 43ms/step - loss: 0.0982 - categorical_accuracy: 0.9644 - val_loss: 0.1825 - val_categorical_accuracy: 0.9467\n",
            "Epoch 27/100\n",
            "57/57 [==============================] - 3s 48ms/step - loss: 0.0927 - categorical_accuracy: 0.9672 - val_loss: 0.1806 - val_categorical_accuracy: 0.9533\n",
            "Epoch 28/100\n",
            "57/57 [==============================] - 3s 44ms/step - loss: 0.0867 - categorical_accuracy: 0.9717 - val_loss: 0.1740 - val_categorical_accuracy: 0.9533\n",
            "Epoch 29/100\n",
            "57/57 [==============================] - 2s 41ms/step - loss: 0.0809 - categorical_accuracy: 0.9744 - val_loss: 0.1728 - val_categorical_accuracy: 0.9533\n",
            "Epoch 30/100\n",
            "57/57 [==============================] - 2s 39ms/step - loss: 0.0771 - categorical_accuracy: 0.9761 - val_loss: 0.1688 - val_categorical_accuracy: 0.9533\n",
            "Epoch 31/100\n",
            "57/57 [==============================] - 3s 48ms/step - loss: 0.0731 - categorical_accuracy: 0.9772 - val_loss: 0.1662 - val_categorical_accuracy: 0.9567\n",
            "Epoch 32/100\n",
            "57/57 [==============================] - 2s 43ms/step - loss: 0.0698 - categorical_accuracy: 0.9778 - val_loss: 0.1663 - val_categorical_accuracy: 0.9567\n",
            "Epoch 33/100\n",
            "57/57 [==============================] - 2s 41ms/step - loss: 0.0660 - categorical_accuracy: 0.9794 - val_loss: 0.1638 - val_categorical_accuracy: 0.9600\n",
            "Epoch 34/100\n",
            "57/57 [==============================] - 2s 44ms/step - loss: 0.0632 - categorical_accuracy: 0.9800 - val_loss: 0.1647 - val_categorical_accuracy: 0.9600\n",
            "Epoch 35/100\n",
            "57/57 [==============================] - 3s 53ms/step - loss: 0.0590 - categorical_accuracy: 0.9822 - val_loss: 0.1652 - val_categorical_accuracy: 0.9633\n",
            "Epoch 36/100\n",
            "57/57 [==============================] - 2s 43ms/step - loss: 0.0558 - categorical_accuracy: 0.9844 - val_loss: 0.1711 - val_categorical_accuracy: 0.9667\n",
            "Epoch 37/100\n",
            "57/57 [==============================] - 2s 41ms/step - loss: 0.0515 - categorical_accuracy: 0.9872 - val_loss: 0.1715 - val_categorical_accuracy: 0.9667\n",
            "Epoch 38/100\n",
            "57/57 [==============================] - 2s 41ms/step - loss: 0.0479 - categorical_accuracy: 0.9872 - val_loss: 0.1762 - val_categorical_accuracy: 0.9667\n",
            "Epoch 39/100\n",
            "57/57 [==============================] - 3s 48ms/step - loss: 0.0438 - categorical_accuracy: 0.9872 - val_loss: 0.1777 - val_categorical_accuracy: 0.9667\n",
            "Epoch 40/100\n",
            "57/57 [==============================] - 3s 44ms/step - loss: 0.0404 - categorical_accuracy: 0.9900 - val_loss: 0.1755 - val_categorical_accuracy: 0.9633\n",
            "Epoch 41/100\n",
            "57/57 [==============================] - 2s 42ms/step - loss: 0.0375 - categorical_accuracy: 0.9894 - val_loss: 0.1802 - val_categorical_accuracy: 0.9600\n",
            "Epoch 42/100\n",
            "57/57 [==============================] - 3s 44ms/step - loss: 0.0344 - categorical_accuracy: 0.9928 - val_loss: 0.1795 - val_categorical_accuracy: 0.9600\n",
            "Epoch 43/100\n",
            "57/57 [==============================] - 3s 51ms/step - loss: 0.0331 - categorical_accuracy: 0.9933 - val_loss: 0.1785 - val_categorical_accuracy: 0.9567\n",
            "Epoch 44/100\n",
            "57/57 [==============================] - 2s 43ms/step - loss: 0.0298 - categorical_accuracy: 0.9944 - val_loss: 0.1794 - val_categorical_accuracy: 0.9500\n",
            "Epoch 45/100\n",
            "57/57 [==============================] - 2s 42ms/step - loss: 0.0278 - categorical_accuracy: 0.9944 - val_loss: 0.1770 - val_categorical_accuracy: 0.9533\n",
            "Epoch 46/100\n",
            "57/57 [==============================] - 3s 44ms/step - loss: 0.0256 - categorical_accuracy: 0.9944 - val_loss: 0.1750 - val_categorical_accuracy: 0.9533\n",
            "Epoch 47/100\n",
            "57/57 [==============================] - 3s 50ms/step - loss: 0.0240 - categorical_accuracy: 0.9944 - val_loss: 0.1743 - val_categorical_accuracy: 0.9533\n",
            "Epoch 48/100\n",
            "57/57 [==============================] - 2s 41ms/step - loss: 0.0228 - categorical_accuracy: 0.9950 - val_loss: 0.1762 - val_categorical_accuracy: 0.9533\n",
            "Epoch 49/100\n",
            "57/57 [==============================] - 2s 41ms/step - loss: 0.0219 - categorical_accuracy: 0.9967 - val_loss: 0.1759 - val_categorical_accuracy: 0.9533\n",
            "Epoch 50/100\n",
            "57/57 [==============================] - 2s 42ms/step - loss: 0.0213 - categorical_accuracy: 0.9961 - val_loss: 0.1757 - val_categorical_accuracy: 0.9567\n",
            "Epoch 51/100\n",
            "57/57 [==============================] - 3s 50ms/step - loss: 0.0198 - categorical_accuracy: 0.9972 - val_loss: 0.1767 - val_categorical_accuracy: 0.9567\n",
            "Epoch 52/100\n",
            "57/57 [==============================] - 3s 44ms/step - loss: 0.0194 - categorical_accuracy: 0.9978 - val_loss: 0.1745 - val_categorical_accuracy: 0.9567\n",
            "Epoch 53/100\n",
            "57/57 [==============================] - 2s 42ms/step - loss: 0.0181 - categorical_accuracy: 0.9989 - val_loss: 0.1787 - val_categorical_accuracy: 0.9533\n",
            "Epoch 54/100\n",
            "57/57 [==============================] - 2s 43ms/step - loss: 0.0176 - categorical_accuracy: 0.9983 - val_loss: 0.1785 - val_categorical_accuracy: 0.9533\n",
            "Epoch 55/100\n",
            "57/57 [==============================] - 3s 52ms/step - loss: 0.0167 - categorical_accuracy: 0.9989 - val_loss: 0.1831 - val_categorical_accuracy: 0.9433\n",
            "Epoch 56/100\n",
            "57/57 [==============================] - 2s 41ms/step - loss: 0.0168 - categorical_accuracy: 0.9978 - val_loss: 0.1831 - val_categorical_accuracy: 0.9400\n",
            "Epoch 57/100\n",
            "57/57 [==============================] - 2s 40ms/step - loss: 0.0153 - categorical_accuracy: 0.9989 - val_loss: 0.1802 - val_categorical_accuracy: 0.9400\n",
            "Epoch 58/100\n",
            "57/57 [==============================] - 2s 41ms/step - loss: 0.0144 - categorical_accuracy: 0.9994 - val_loss: 0.1789 - val_categorical_accuracy: 0.9433\n",
            "Epoch 59/100\n",
            "57/57 [==============================] - 3s 46ms/step - loss: 0.0134 - categorical_accuracy: 0.9989 - val_loss: 0.1763 - val_categorical_accuracy: 0.9400\n",
            "Epoch 60/100\n",
            "57/57 [==============================] - 2s 43ms/step - loss: 0.0127 - categorical_accuracy: 0.9994 - val_loss: 0.1749 - val_categorical_accuracy: 0.9367\n",
            "Epoch 61/100\n",
            "57/57 [==============================] - 2s 41ms/step - loss: 0.0121 - categorical_accuracy: 0.9994 - val_loss: 0.1720 - val_categorical_accuracy: 0.9433\n",
            "Epoch 62/100\n",
            "57/57 [==============================] - 3s 45ms/step - loss: 0.0118 - categorical_accuracy: 0.9994 - val_loss: 0.1864 - val_categorical_accuracy: 0.9467\n",
            "Epoch 63/100\n",
            "57/57 [==============================] - 3s 51ms/step - loss: 0.0112 - categorical_accuracy: 0.9994 - val_loss: 0.1883 - val_categorical_accuracy: 0.9467\n",
            "Epoch 64/100\n",
            "57/57 [==============================] - 2s 41ms/step - loss: 0.0108 - categorical_accuracy: 1.0000 - val_loss: 0.1719 - val_categorical_accuracy: 0.9533\n",
            "Epoch 65/100\n",
            "57/57 [==============================] - 2s 41ms/step - loss: 0.0103 - categorical_accuracy: 1.0000 - val_loss: 0.1701 - val_categorical_accuracy: 0.9600\n",
            "Epoch 66/100\n",
            "57/57 [==============================] - 2s 44ms/step - loss: 0.0094 - categorical_accuracy: 1.0000 - val_loss: 0.1618 - val_categorical_accuracy: 0.9600\n",
            "Epoch 67/100\n",
            "57/57 [==============================] - 3s 52ms/step - loss: 0.0085 - categorical_accuracy: 1.0000 - val_loss: 0.1511 - val_categorical_accuracy: 0.9667\n",
            "Epoch 68/100\n",
            "57/57 [==============================] - 2s 41ms/step - loss: 0.0073 - categorical_accuracy: 1.0000 - val_loss: 0.1448 - val_categorical_accuracy: 0.9667\n",
            "Epoch 69/100\n",
            "57/57 [==============================] - 2s 40ms/step - loss: 0.0063 - categorical_accuracy: 1.0000 - val_loss: 0.1374 - val_categorical_accuracy: 0.9700\n",
            "Epoch 70/100\n",
            "57/57 [==============================] - 2s 40ms/step - loss: 0.0050 - categorical_accuracy: 1.0000 - val_loss: 0.1336 - val_categorical_accuracy: 0.9700\n",
            "Epoch 71/100\n",
            "57/57 [==============================] - 3s 49ms/step - loss: 0.0036 - categorical_accuracy: 1.0000 - val_loss: 0.1325 - val_categorical_accuracy: 0.9700\n",
            "Epoch 72/100\n",
            "57/57 [==============================] - 2s 43ms/step - loss: 0.0031 - categorical_accuracy: 1.0000 - val_loss: 0.1334 - val_categorical_accuracy: 0.9700\n",
            "Epoch 73/100\n",
            "57/57 [==============================] - 2s 44ms/step - loss: 0.0029 - categorical_accuracy: 1.0000 - val_loss: 0.1339 - val_categorical_accuracy: 0.9700\n",
            "Epoch 74/100\n",
            "57/57 [==============================] - 2s 41ms/step - loss: 0.0027 - categorical_accuracy: 1.0000 - val_loss: 0.1341 - val_categorical_accuracy: 0.9700\n",
            "Epoch 75/100\n",
            "57/57 [==============================] - 3s 50ms/step - loss: 0.0026 - categorical_accuracy: 1.0000 - val_loss: 0.1345 - val_categorical_accuracy: 0.9700\n",
            "Epoch 76/100\n",
            "57/57 [==============================] - 2s 41ms/step - loss: 0.0024 - categorical_accuracy: 1.0000 - val_loss: 0.1346 - val_categorical_accuracy: 0.9700\n",
            "Epoch 77/100\n",
            "57/57 [==============================] - 2s 44ms/step - loss: 0.0023 - categorical_accuracy: 1.0000 - val_loss: 0.1347 - val_categorical_accuracy: 0.9700\n",
            "Epoch 78/100\n",
            "57/57 [==============================] - 2s 41ms/step - loss: 0.0022 - categorical_accuracy: 1.0000 - val_loss: 0.1343 - val_categorical_accuracy: 0.9700\n",
            "Epoch 79/100\n",
            "57/57 [==============================] - 3s 51ms/step - loss: 0.0021 - categorical_accuracy: 1.0000 - val_loss: 0.1349 - val_categorical_accuracy: 0.9700\n",
            "Epoch 80/100\n",
            "57/57 [==============================] - 2s 41ms/step - loss: 0.0020 - categorical_accuracy: 1.0000 - val_loss: 0.1336 - val_categorical_accuracy: 0.9700\n",
            "Epoch 81/100\n",
            "57/57 [==============================] - 2s 42ms/step - loss: 0.0020 - categorical_accuracy: 1.0000 - val_loss: 0.1339 - val_categorical_accuracy: 0.9700\n",
            "Epoch 82/100\n",
            "57/57 [==============================] - 2s 42ms/step - loss: 0.0019 - categorical_accuracy: 1.0000 - val_loss: 0.1343 - val_categorical_accuracy: 0.9700\n",
            "Epoch 83/100\n",
            "57/57 [==============================] - 3s 48ms/step - loss: 0.0018 - categorical_accuracy: 1.0000 - val_loss: 0.1337 - val_categorical_accuracy: 0.9700\n",
            "Epoch 84/100\n",
            "57/57 [==============================] - 4s 67ms/step - loss: 0.0017 - categorical_accuracy: 1.0000 - val_loss: 0.1334 - val_categorical_accuracy: 0.9733\n",
            "Epoch 85/100\n",
            "57/57 [==============================] - 3s 44ms/step - loss: 0.0017 - categorical_accuracy: 1.0000 - val_loss: 0.1335 - val_categorical_accuracy: 0.9733\n",
            "Epoch 86/100\n",
            "57/57 [==============================] - 3s 44ms/step - loss: 0.0016 - categorical_accuracy: 1.0000 - val_loss: 0.1325 - val_categorical_accuracy: 0.9700\n",
            "Epoch 87/100\n",
            "57/57 [==============================] - 2s 41ms/step - loss: 0.0016 - categorical_accuracy: 1.0000 - val_loss: 0.1324 - val_categorical_accuracy: 0.9733\n",
            "Epoch 88/100\n",
            "57/57 [==============================] - 3s 48ms/step - loss: 0.0015 - categorical_accuracy: 1.0000 - val_loss: 0.1327 - val_categorical_accuracy: 0.9733\n",
            "Epoch 89/100\n",
            "57/57 [==============================] - 3s 44ms/step - loss: 0.0014 - categorical_accuracy: 1.0000 - val_loss: 0.1324 - val_categorical_accuracy: 0.9733\n",
            "Epoch 90/100\n",
            "57/57 [==============================] - 2s 41ms/step - loss: 0.0014 - categorical_accuracy: 1.0000 - val_loss: 0.1315 - val_categorical_accuracy: 0.9733\n",
            "Epoch 91/100\n",
            "57/57 [==============================] - 2s 42ms/step - loss: 0.0013 - categorical_accuracy: 1.0000 - val_loss: 0.1316 - val_categorical_accuracy: 0.9733\n",
            "Epoch 92/100\n",
            "57/57 [==============================] - 3s 51ms/step - loss: 0.0013 - categorical_accuracy: 1.0000 - val_loss: 0.1316 - val_categorical_accuracy: 0.9733\n",
            "Epoch 93/100\n",
            "57/57 [==============================] - 2s 42ms/step - loss: 0.0013 - categorical_accuracy: 1.0000 - val_loss: 0.1316 - val_categorical_accuracy: 0.9733\n",
            "Epoch 94/100\n",
            "57/57 [==============================] - 2s 42ms/step - loss: 0.0012 - categorical_accuracy: 1.0000 - val_loss: 0.1314 - val_categorical_accuracy: 0.9733\n",
            "Epoch 95/100\n",
            "57/57 [==============================] - 3s 44ms/step - loss: 0.0012 - categorical_accuracy: 1.0000 - val_loss: 0.1320 - val_categorical_accuracy: 0.9733\n",
            "Epoch 96/100\n",
            "57/57 [==============================] - 3s 51ms/step - loss: 0.0011 - categorical_accuracy: 1.0000 - val_loss: 0.1313 - val_categorical_accuracy: 0.9733\n",
            "Epoch 97/100\n",
            "57/57 [==============================] - 2s 42ms/step - loss: 0.0011 - categorical_accuracy: 1.0000 - val_loss: 0.1311 - val_categorical_accuracy: 0.9733\n",
            "Epoch 98/100\n",
            "57/57 [==============================] - 2s 41ms/step - loss: 0.0011 - categorical_accuracy: 1.0000 - val_loss: 0.1306 - val_categorical_accuracy: 0.9733\n",
            "Epoch 99/100\n",
            "57/57 [==============================] - 2s 42ms/step - loss: 0.0010 - categorical_accuracy: 1.0000 - val_loss: 0.1314 - val_categorical_accuracy: 0.9733\n",
            "Epoch 100/100\n",
            "57/57 [==============================] - 3s 54ms/step - loss: 9.9182e-04 - categorical_accuracy: 1.0000 - val_loss: 0.1305 - val_categorical_accuracy: 0.9733\n"
          ]
        }
      ]
    },
    {
      "cell_type": "markdown",
      "source": [
        "PLOT YOUR RESULTS HERE\n"
      ],
      "metadata": {
        "id": "1Nm9s2JxiJAK"
      }
    },
    {
      "cell_type": "code",
      "source": [
        "import random\n",
        "import cv2\n",
        "from matplotlib import pyplot as plt\n",
        "\n",
        "numbers = list(range(1, 1001))\n",
        "random_array = random.sample(numbers, 10)\n",
        "\n",
        "fig = plt.figure(figsize=(10, 7))\n",
        "\n",
        "for i, idx in enumerate(random_array):\n",
        "    img_resized = cv2.resize(x_test[idx], (64, 64))\n",
        "    y_pred = np.argmax(conv_model.predict(np.expand_dims(x_test[idx], axis=0),verbose=0))\n",
        "    ax = fig.add_subplot(1, 10, i+1)\n",
        "    ax.imshow(img_resized, cmap='gray')\n",
        "    ax.axis('off')\n",
        "    ax.set_title(\"pred = \" + str(y_pred))\n",
        "\n",
        "plt.tight_layout()\n",
        "plt.show()"
      ],
      "metadata": {
        "id": "cssoYMXsbi4X",
        "colab": {
          "base_uri": "https://localhost:8080/",
          "height": 142
        },
        "outputId": "f479b9a7-7f09-4835-f2e7-5bac06463623"
      },
      "execution_count": 16,
      "outputs": [
        {
          "output_type": "display_data",
          "data": {
            "text/plain": [
              "<Figure size 1000x700 with 10 Axes>"
            ],
            "image/png": "[encoded data removed]"
          },
          "metadata": {}
        }
      ]
    }
  ]
}